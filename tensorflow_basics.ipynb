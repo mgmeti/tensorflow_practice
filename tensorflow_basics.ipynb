{
  "nbformat": 4,
  "nbformat_minor": 0,
  "metadata": {
    "colab": {
      "provenance": [],
      "authorship_tag": "ABX9TyPIxMLU6f0tL9am24La6Mle",
      "include_colab_link": true
    },
    "kernelspec": {
      "name": "python3",
      "display_name": "Python 3"
    },
    "language_info": {
      "name": "python"
    }
  },
  "cells": [
    {
      "cell_type": "markdown",
      "metadata": {
        "id": "view-in-github",
        "colab_type": "text"
      },
      "source": [
        "<a href=\"https://colab.research.google.com/github/mgmeti/tensorflow_practice/blob/main/tensorflow_basics.ipynb\" target=\"_parent\"><img src=\"https://colab.research.google.com/assets/colab-badge.svg\" alt=\"Open In Colab\"/></a>"
      ]
    },
    {
      "cell_type": "markdown",
      "source": [],
      "metadata": {
        "id": "rYvi0HSYJBqA"
      }
    },
    {
      "cell_type": "code",
      "execution_count": null,
      "metadata": {
        "id": "82mDJlnS0m2K"
      },
      "outputs": [],
      "source": [
        "# pip install tensorflow"
      ]
    },
    {
      "cell_type": "markdown",
      "source": [
        "Chapter 2:\n",
        "<br>\n",
        "Tensorflow for Dummies"
      ],
      "metadata": {
        "id": "tgbwGptS6Ifg"
      }
    },
    {
      "cell_type": "code",
      "source": [
        "from __future__ import absolute_import\n",
        "from __future__ import division\n",
        "from __future__ import print_function\n",
        "\n",
        "import tensorflow as tf\n",
        "\n",
        "# create tensor\n",
        "msg = tf.strings.join([\"Hello\", \"Tensorflow!\"],  separator=\" \")\n",
        "# Launch session\n",
        "with tf.compat.v1.Session()  as sess:\n",
        "    # print(sess.run(msg))\n",
        "    hello = tf.constant('hello world')\n",
        "    print(sess.run(hello))\n",
        "# Note: TF1.x version\n",
        "# msg = tf.constant('Hello, TensorFlow!')\n",
        "# Note: TF2.x version\n",
        "# No need for session to create\n",
        "tf.print(msg)"
      ],
      "metadata": {
        "colab": {
          "base_uri": "https://localhost:8080/"
        },
        "id": "ZwlAeYr01FUY",
        "outputId": "2939461f-b2f8-4a5a-8284-8fc5ca7757ce"
      },
      "execution_count": 24,
      "outputs": [
        {
          "output_type": "stream",
          "name": "stdout",
          "text": [
            "b'hello world'\n",
            "Hello Tensorflow!\n"
          ]
        }
      ]
    },
    {
      "cell_type": "markdown",
      "source": [
        "Chapter 3:\n",
        "*   The constant function\n",
        "*   Hey\n",
        "\n",
        "\n"
      ],
      "metadata": {
        "id": "qUzftjcd6-fd"
      }
    },
    {
      "cell_type": "code",
      "source": [
        "t1 = tf.constant([1.5, 2.5, 3.5])\n",
        "tf.print(t1)\n",
        "\n",
        "t2 = tf.constant([['b', 'b'], ['b', 'b']])\n",
        "tf.print(t2)\n",
        "\n",
        "t3 = tf.constant([4, 2, 5], tf.int16, [3], 'Const')\n",
        "tf.print(t3)"
      ],
      "metadata": {
        "colab": {
          "base_uri": "https://localhost:8080/"
        },
        "id": "Ama86hEw6RSg",
        "outputId": "6cf6559c-cf50-4dfb-b857-eda5fac59978"
      },
      "execution_count": 29,
      "outputs": [
        {
          "output_type": "stream",
          "name": "stdout",
          "text": [
            "[1.5 2.5 3.5]\n",
            "[[\"b\" \"b\"]\n",
            " [\"b\" \"b\"]]\n",
            "[4 2 5]\n"
          ]
        }
      ]
    },
    {
      "cell_type": "code",
      "source": [
        "#@title zeros, ones, and fill\n",
        "zero_tensor = tf.zeros([3])\n",
        "tf.print(zero_tensor)\n",
        "\n",
        "one_tensor = tf.ones([4, 4])\n",
        "tf.print(one_tensor)\n",
        "\n",
        "fill_tensor = tf.fill([2, 2, 3], 81.0)\n",
        "tf.print(fill_tensor)"
      ],
      "metadata": {
        "colab": {
          "base_uri": "https://localhost:8080/"
        },
        "cellView": "form",
        "id": "IRLoLlxO7d8p",
        "outputId": "a3f1186e-710c-476a-cfa4-9869c19a4421"
      },
      "execution_count": 31,
      "outputs": [
        {
          "output_type": "stream",
          "name": "stdout",
          "text": [
            "[0 0 0]\n",
            "[[1 1 1 1]\n",
            " [1 1 1 1]\n",
            " [1 1 1 1]\n",
            " [1 1 1 1]]\n",
            "[[[81 81 81]\n",
            "  [81 81 81]]\n",
            "\n",
            " [[81 81 81]\n",
            "  [81 81 81]]]\n"
          ]
        }
      ]
    },
    {
      "cell_type": "code",
      "source": [
        "#@title Creating sequences\n",
        "lin_tensor = tf.linspace(5., 9., 5)\n",
        "tf.print(\"Linear space generates a sequence between start and end:\", lin_tensor)\n",
        "\n",
        "range_tensor_start = tf.range(3., 7., delta=0.5)\n",
        "tf.print(\"Range tensor generates a sequence between start and end:\", range_tensor_start)\n",
        "\n",
        "\n",
        "range_tensor = tf.range(1.5, delta=.5)\n",
        "tf.print(\"Range tensor generates a sequence between 0 and end:\", range_tensor_start)\n",
        "\n"
      ],
      "metadata": {
        "colab": {
          "base_uri": "https://localhost:8080/"
        },
        "cellView": "form",
        "id": "JJMUM-UG-X0C",
        "outputId": "9298b4e0-cb39-474e-f6d7-4c6ca8ae12fe"
      },
      "execution_count": 32,
      "outputs": [
        {
          "output_type": "stream",
          "name": "stdout",
          "text": [
            "Linear space generates a sequence between start and end: [5 6 7 8 9]\n",
            "Range tensor generates a sequence between start and end: [3 3.5 4 ... 5.5 6 6.5]\n",
            "Range tensor generates a sequence between 0 and end: [3 3.5 4 ... 5.5 6 6.5]\n"
          ]
        }
      ]
    },
    {
      "cell_type": "code",
      "source": [
        "#@title Tensors from Random Values\n",
        "rnd_ints = tf.random.normal([10], dtype=tf.float64)\n",
        "tf.print(\"Generate 10 random normal values:\", rnd_ints)\n",
        "# reference: https://stackoverflow.com/questions/59953127/tensorflow-2-1-0-has-no-attribute-random-normal\n",
        "\n"
      ],
      "metadata": {
        "colab": {
          "base_uri": "https://localhost:8080/"
        },
        "cellView": "form",
        "id": "lPDwBUykAgky",
        "outputId": "b7aa27c8-ecf1-4abd-8287-d9c0b0847fdc"
      },
      "execution_count": 39,
      "outputs": [
        {
          "output_type": "stream",
          "name": "stdout",
          "text": [
            "Generate 10 random normal values: [-0.45381445656212582 -0.477816262363832 -1.1035295553402811 ... 1.3396439451975761 -0.15198366778115996 -0.26530763974034866]\n"
          ]
        }
      ]
    },
    {
      "cell_type": "code",
      "source": [
        "#@title Transforming Tensors\n",
        "vec = tf.constant([1., 2., 3., 4., 5., 6.])\n",
        "mat = tf.reshape(vec, [2, 3])\n",
        "tf.print(\"1D Vector:\", vec)\n",
        "tf.print(\"2D Vector (Matrix):\", mat)\n",
        "\n",
        "print(\"_\"*20)\n",
        "\n",
        "mat  = tf.constant([[1., 2., 3.], [4., 5., 6.]])\n",
        "print(\"matrix shape:\", mat.shape)\n",
        "rev_mat = tf.reverse(mat, [0])\n",
        "tf.print(\"Matrix\", mat)\n",
        "tf.print(\"Reversed matrix\", rev_mat)\n",
        "\n",
        "print(\"_\"*20)\n",
        "\n",
        "rev_mat = tf.reverse(mat, [1])\n",
        "tf.print(\"Matrix\", mat)\n",
        "tf.print(\"Reversed matrix\", rev_mat)\n",
        "\n",
        "print(\"_\"*20)\n",
        "\n",
        "rev_mat = tf.reverse(mat, [0, 1])\n",
        "tf.print(\"Matrix\", mat)\n",
        "tf.print(\"Reversed matrix\", rev_mat)\n",
        "mat = tf.constant([[1., 2., 3.], [4., 5., 6.], [7., 8., 9.]])\n",
        "slice_mat = tf.slice(mat, [1, 0], [2, 2])\n",
        "tf.print(\"3-x-3 matrix:\", mat)\n",
        "tf.print(\"2-x-2 matrix is sliced from 3-x-3 starting form element at [1, 1]:\", slice_mat)\n",
        "t1 = tf.constant([1., 2.])\n",
        "tf.print(t1)\n",
        "\n",
        "t2 = tf.constant([3., 4.])\n",
        "tf.print(t2)\n",
        "t3 = tf.constant([5., 6.])\n",
        "tf.print(t3)\n",
        "\n",
        "print('_' * 20)\n",
        "t4 = tf.stack([t1, t2, t3])\n",
        "print(\"stacked tensor:\", t4)"
      ],
      "metadata": {
        "colab": {
          "base_uri": "https://localhost:8080/"
        },
        "cellView": "form",
        "id": "nAG_EampA900",
        "outputId": "27cf27bc-fa0b-41cb-f4a1-11c862f83b25"
      },
      "execution_count": 57,
      "outputs": [
        {
          "output_type": "stream",
          "name": "stdout",
          "text": [
            "1D Vector: [1 2 3 4 5 6]\n",
            "2D Vector (Matrix): [[1 2 3]\n",
            " [4 5 6]]\n",
            "____________________\n",
            "matrix shape: (2, 3)\n",
            "Matrix [[1 2 3]\n",
            " [4 5 6]]\n",
            "Reversed matrix [[4 5 6]\n",
            " [1 2 3]]\n",
            "____________________\n",
            "Matrix [[1 2 3]\n",
            " [4 5 6]]\n",
            "Reversed matrix [[3 2 1]\n",
            " [6 5 4]]\n",
            "____________________\n",
            "Matrix [[1 2 3]\n",
            " [4 5 6]]\n",
            "Reversed matrix [[6 5 4]\n",
            " [3 2 1]]\n",
            "3-x-3 matrix: [[1 2 3]\n",
            " [4 5 6]\n",
            " [7 8 9]]\n",
            "2-x-2 matrix is sliced from 3-x-3 starting form element at [1, 1]: [[4 5]\n",
            " [7 8]]\n",
            "[1 2]\n",
            "[3 4]\n",
            "[5 6]\n",
            "____________________\n",
            "stacked tensor: tf.Tensor(\n",
            "[[1. 2.]\n",
            " [3. 4.]\n",
            " [5. 6.]], shape=(3, 2), dtype=float32)\n"
          ]
        }
      ]
    },
    {
      "cell_type": "code",
      "source": [],
      "metadata": {
        "id": "fIflRG9SJAJM"
      },
      "execution_count": null,
      "outputs": []
    }
  ]
}